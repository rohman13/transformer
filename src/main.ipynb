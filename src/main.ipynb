{
 "cells": [
  {
   "cell_type": "code",
   "execution_count": 15,
   "metadata": {},
   "outputs": [],
   "source": [
    "import torch\n",
    "from runner import Runner\n",
    "import matplotlib.pyplot as plt\n",
    "import numpy as np"
   ]
  },
  {
   "cell_type": "code",
   "execution_count": 16,
   "metadata": {},
   "outputs": [],
   "source": [
    "def get_device():\n",
    "    # return torch.device(\"cpu\")\n",
    "    return torch.device(\"cuda\" if torch.cuda.is_available() else \"cpu\")"
   ]
  },
  {
   "cell_type": "code",
   "execution_count": 17,
   "metadata": {},
   "outputs": [],
   "source": [
    "epoch = 50\n",
    "batch_size = 64\n"
   ]
  },
  {
   "cell_type": "code",
   "execution_count": 18,
   "metadata": {},
   "outputs": [
    {
     "name": "stdout",
     "output_type": "stream",
     "text": [
      "Epoch: 0 Loss: 3.038435204823812\n",
      "Epoch: 1 Loss: 2.332243045171102\n",
      "Epoch: 2 Loss: 2.0490902185440065\n",
      "Epoch: 3 Loss: 1.9101795911788941\n",
      "Epoch: 4 Loss: 1.8017717917760214\n",
      "Epoch: 5 Loss: 1.702175291379293\n",
      "Epoch: 6 Loss: 1.602978479862213\n",
      "Epoch: 7 Loss: 1.4731661200523376\n",
      "Epoch: 8 Loss: 1.2641443490982056\n",
      "Epoch: 9 Loss: 1.0522959113121033\n",
      "Epoch: 10 Loss: 0.8569297313690185\n",
      "Epoch: 11 Loss: 0.6764083902041117\n",
      "Epoch: 12 Loss: 0.5197318772474925\n",
      "Epoch: 13 Loss: 0.39500056505203246\n",
      "Epoch: 14 Loss: 0.3026647885640462\n",
      "Epoch: 15 Loss: 0.24320413718620937\n",
      "Epoch: 16 Loss: 0.2022331764300664\n",
      "Epoch: 17 Loss: 0.17231322973966598\n",
      "Epoch: 18 Loss: 0.1513238474726677\n",
      "Epoch: 19 Loss: 0.13508303239941596\n",
      "Epoch: 20 Loss: 0.12397228131691615\n",
      "Epoch: 21 Loss: 0.11398740857839584\n",
      "Epoch: 22 Loss: 0.10570442378520965\n",
      "Epoch: 23 Loss: 0.1011563109854857\n",
      "Epoch: 24 Loss: 0.09569029534856478\n",
      "Epoch: 25 Loss: 0.09121641417344412\n",
      "Epoch: 26 Loss: 0.08699294080336889\n",
      "Epoch: 27 Loss: 0.0838058010985454\n",
      "Epoch: 28 Loss: 0.08020297760764758\n",
      "Epoch: 29 Loss: 0.07710904888808727\n",
      "Epoch: 30 Loss: 0.07527983536322912\n",
      "Epoch: 31 Loss: 0.07317415550351143\n",
      "Epoch: 32 Loss: 0.0709106390674909\n",
      "Epoch: 33 Loss: 0.06879656414190928\n",
      "Epoch: 34 Loss: 0.0667426448315382\n",
      "Epoch: 35 Loss: 0.06483750368158023\n",
      "Epoch: 36 Loss: 0.06300405835111936\n",
      "Epoch: 37 Loss: 0.061906989415486655\n",
      "Epoch: 38 Loss: 0.0595514585574468\n",
      "Epoch: 39 Loss: 0.05818690297504266\n",
      "Epoch: 40 Loss: 0.056876834978659946\n",
      "Epoch: 41 Loss: 0.055110053966442744\n",
      "Epoch: 42 Loss: 0.054038920626044276\n",
      "Epoch: 43 Loss: 0.052384939913948374\n",
      "Epoch: 44 Loss: 0.05116593266526858\n",
      "Epoch: 45 Loss: 0.049202973892291384\n",
      "Epoch: 46 Loss: 0.04818908299009005\n",
      "Epoch: 47 Loss: 0.046331050371130306\n",
      "Epoch: 48 Loss: 0.04443578148881595\n",
      "Epoch: 49 Loss: 0.04364169637362162\n"
     ]
    },
    {
     "data": {
      "image/png": "[encoded data removed]",
      "text/plain": [
       "<Figure size 640x480 with 1 Axes>"
      ]
     },
     "metadata": {},
     "output_type": "display_data"
    },
    {
     "name": "stdout",
     "output_type": "stream",
     "text": [
      "Saving checkpoint ./trained_model\n",
      "cats. dogs are often seen ned in the of lor cats. dogs are theat lavente. low to the in wiowitato co tan the dogs. dogs are natut alal in ford. toooomomal plols. dogs con bar to hasin sestroulirires potonal huve heove movididiriondon tasirlools arks. dogs are often fear ofdenc currrrrrrubss. dogs are smarking coude reds in searks. dogs are known for their oftencor thir diced resesc. dogs are often for\n",
      "Time taken: 86.95 seconds\n"
     ]
    }
   ],
   "source": [
    "import time\n",
    "\n",
    "# Record the start time\n",
    "start_time = time.time()\n",
    "\n",
    "# Run the model\n",
    "device = get_device()\n",
    "runner = Runner(device=device)\n",
    "runner.run(epoch=epoch, batch_size=batch_size)\n",
    "torch.cuda.empty_cache()\n",
    "\n",
    "# Record the end time\n",
    "end_time = time.time()\n",
    "\n",
    "# Calculate the time taken in seconds\n",
    "time_taken = end_time - start_time\n",
    "\n",
    "# Print the time taken in seconds\n",
    "print(f\"Time taken: {time_taken:.2f} seconds\")"
   ]
  },
  {
   "cell_type": "code",
   "execution_count": 19,
   "metadata": {},
   "outputs": [],
   "source": [
    "torch.cuda.empty_cache()"
   ]
  },
  {
   "cell_type": "code",
   "execution_count": null,
   "metadata": {},
   "outputs": [],
   "source": []
  }
 ],
 "metadata": {
  "kernelspec": {
   "display_name": "Python 3",
   "language": "python",
   "name": "python3"
  },
  "language_info": {
   "codemirror_mode": {
    "name": "ipython",
    "version": 3
   },
   "file_extension": ".py",
   "mimetype": "text/x-python",
   "name": "python",
   "nbconvert_exporter": "python",
   "pygments_lexer": "ipython3",
   "version": "3.10.7"
  },
  "orig_nbformat": 4
 },
 "nbformat": 4,
 "nbformat_minor": 2
}
