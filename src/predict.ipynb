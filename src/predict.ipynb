{
 "cells": [
  {
   "cell_type": "code",
   "execution_count": 21,
   "metadata": {},
   "outputs": [],
   "source": [
    "import torch\n",
    "from languagemodel import LanguageModel\n",
    "from generator import Generator\n",
    "from tokenizer import Tokenizer\n",
    "from autoregressivewrapper import AutoregressiveWrapper"
   ]
  },
  {
   "cell_type": "code",
   "execution_count": 22,
   "metadata": {},
   "outputs": [],
   "source": [
    "def get_device():\n",
    "    return torch.device(\"cuda\" if torch.cuda.is_available() else \"cpu\")"
   ]
  },
  {
   "cell_type": "code",
   "execution_count": 23,
   "metadata": {},
   "outputs": [],
   "source": [
    "device = get_device()\n",
    "tokenizer = Tokenizer()\n",
    "checkpoint = LanguageModel.load_checkpoint('./trained_model', device)\n",
    "model = AutoregressiveWrapper(\n",
    "          device=device,\n",
    "          gpt_model= checkpoint\n",
    "          )\n",
    "generator = Generator(device, model, tokenizer)"
   ]
  },
  {
   "cell_type": "code",
   "execution_count": 28,
   "metadata": {},
   "outputs": [],
   "source": [
    "def predict(prompt, max_token):\n",
    "  generated = generator.generate(\n",
    "    max_tokens_to_generate=max_token,\n",
    "    prompt=prompt,\n",
    "    padding_token=tokenizer.character_to_token('<pad>')\n",
    "  )\n",
    "  return generated.replace('<pad>', '')"
   ]
  },
  {
   "cell_type": "code",
   "execution_count": 29,
   "metadata": {},
   "outputs": [
    {
     "data": {
      "text/plain": [
       "'dogs en part holeany plir wat ofte'"
      ]
     },
     "execution_count": 29,
     "metadata": {},
     "output_type": "execute_result"
    }
   ],
   "source": [
    "prompt = \"dogs\"\n",
    "max_token = 30\n",
    "predict(prompt, max_token)"
   ]
  },
  {
   "cell_type": "code",
   "execution_count": null,
   "metadata": {},
   "outputs": [],
   "source": []
  }
 ],
 "metadata": {
  "kernelspec": {
   "display_name": ".venv",
   "language": "python",
   "name": "python3"
  },
  "language_info": {
   "codemirror_mode": {
    "name": "ipython",
    "version": 3
   },
   "file_extension": ".py",
   "mimetype": "text/x-python",
   "name": "python",
   "nbconvert_exporter": "python",
   "pygments_lexer": "ipython3",
   "version": "3.10.7"
  },
  "orig_nbformat": 4
 },
 "nbformat": 4,
 "nbformat_minor": 2
}
